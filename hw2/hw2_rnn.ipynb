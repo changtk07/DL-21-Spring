{
 "cells": [
  {
   "cell_type": "markdown",
   "metadata": {
    "id": "PtcBjMq7YV3f"
   },
   "source": [
    "# Homework 2 - Recurrent Neural Networks"
   ]
  },
  {
   "cell_type": "markdown",
   "metadata": {
    "id": "Rn-cOk1iZTtR"
   },
   "source": [
    "In this part of the homework we are going to work with Recurrent Neural Networks, in particular GRU. One of the greatest things that Recurrent Neural Networks can do when working with sequences is retaining data from several timesteps in the past. We are going to explore that property by constructing an 'echo' Recurrent Neural Network.\n",
    "\n",
    "The goal here is to make a model that given a sequence of letters or digits will output that same sequence, but with a certain delay. Let's say the input is a string 'abacaba', we want the model to not output anything for 3 steps (delay length), and then output the original string step by step, except the last 3 characters. So, target output is then 'XXXabac', where 'X' is empty output.\n",
    "\n",
    "This is similar to [this notebook](https://github.com/Atcold/pytorch-Deep-Learning/blob/master/09-echo_data.ipynb) (which you should refer to when doing this assignment), except we're working not with a binary string, but with a sequence of integers between 0 and some N. In our case N is 26, which is the number of letters in the alphabet."
   ]
  },
  {
   "cell_type": "markdown",
   "metadata": {
    "id": "npLlE973as6x"
   },
   "source": [
    "## Dataset\n",
    "\n",
    "Let's implement the dataset. In our case, the data is basically infinite, as we can always generate more examples on the fly, so don't need to load anything from disk."
   ]
  },
  {
   "cell_type": "code",
   "execution_count": null,
   "metadata": {
    "id": "mkEEMyvzIMRx"
   },
   "outputs": [],
   "source": [
    "import random\n",
    "import string\n",
    "\n",
    "import torch\n",
    "\n",
    "# Max value of the generated integer. 26 is chosen becuase it's\n",
    "# the number of letters in English alphabet.\n",
    "N = 26\n",
    "\n",
    "\n",
    "def idx_to_onehot(x, k=N+1):\n",
    "  \"\"\" Converts the generated integers to one-hot vectors \"\"\"\n",
    "  ones = torch.sparse.torch.eye(k)\n",
    "  shape = x.shape\n",
    "  res = ones.index_select(0, x.view(-1).type(torch.int64))\n",
    "  return res.view(*shape, res.shape[-1])\n",
    "\n",
    "\n",
    "class EchoDataset(torch.utils.data.IterableDataset):\n",
    "\n",
    "  def __init__(self, delay=4, seq_length=15, size=1000):\n",
    "    self.delay = delay\n",
    "    self.seq_length = seq_length\n",
    "    self.size = size\n",
    "  \n",
    "  def __len__(self):\n",
    "    return self.size\n",
    "\n",
    "  def __iter__(self):\n",
    "    \"\"\" Iterable dataset doesn't have to implement __getitem__.\n",
    "        Instead, we only need to implement __iter__ to return\n",
    "        an iterator (or generator).\n",
    "    \"\"\"\n",
    "    for _ in range(self.size):\n",
    "      seq = torch.tensor([random.choice(range(1, N + 1)) for i in range(self.seq_length)], dtype=torch.int64)\n",
    "      result = torch.cat((torch.zeros(self.delay), seq[:self.seq_length - self.delay])).type(torch.int64)\n",
    "      yield seq, result\n",
    "\n",
    "DELAY = 4\n",
    "DATASET_SIZE = 200000\n",
    "ds = EchoDataset(delay=DELAY, size=DATASET_SIZE)"
   ]
  },
  {
   "cell_type": "markdown",
   "metadata": {
    "id": "nNrZqYURcKSl"
   },
   "source": [
    "## Model\n",
    "\n",
    "Now, we want to implement the model. For our purposes, we want to use GRU. The architecture consists of GRU and a decoder. Decoder is responsible for decoding the GRU hidden state to yield a predicting for the next output. The parts you are responsible for filling with your code are marked with `TODO`. "
   ]
  },
  {
   "cell_type": "code",
   "execution_count": null,
   "metadata": {
    "id": "nigN_o4Mb9Nx"
   },
   "outputs": [],
   "source": [
    "class GRUMemory(torch.nn.Module):\n",
    "\n",
    "  def __init__(self, hidden_size):\n",
    "    super().__init__()\n",
    "    self.hidden_size = hidden_size\n",
    "    self.hidden_layers = 4\n",
    "\n",
    "    self.gru = torch.nn.GRU(\n",
    "        input_size=N+1,\n",
    "        hidden_size=self.hidden_size,\n",
    "        num_layers=self.hidden_layers,\n",
    "        batch_first=True,\n",
    "    )\n",
    "    self.linear = torch.nn.Linear(\n",
    "        in_features=hidden_size,\n",
    "        out_features=N+1\n",
    "    )\n",
    "\n",
    "  def forward(self, x):\n",
    "    # inputs: x - input tensor of shape (batch_size, seq_length, N+1)\n",
    "    # returns:\n",
    "    # logits (scores for softmax) of shape (batch size, seq_length, N+1)\n",
    "    x, hidden = self.gru(x)\n",
    "    x = self.linear(x)\n",
    "    x = torch.nn.functional.log_softmax(x, dim=2)\n",
    "    return x, hidden\n",
    "\n",
    "  @torch.no_grad()\n",
    "  def test_run(self, s, device=torch.device(\"cpu\")):\n",
    "    # This function accepts one string s containing lowercase characters a-z. \n",
    "    # You need to map those characters to one-hot encodings, \n",
    "    # then get the result from your network, and then convert the output \n",
    "    # back to a string of the same length, with 0 mapped to ' ',\n",
    "    # and 1-26 mapped to a-z.\n",
    "    self.eval()\n",
    "    base = ord('a')-1\n",
    "\n",
    "    int_seq = torch.tensor([ord(c)-base for c in s])\n",
    "    input = idx_to_onehot(int_seq).unsqueeze(0)\n",
    "    input = input.to(device)\n",
    "    #print('input =', input.size())\n",
    "\n",
    "    output, _ = self(input)\n",
    "    output = torch.squeeze(output)\n",
    "    pred = torch.max(output, 1)\n",
    "    \n",
    "    ostr = ''\n",
    "    for i in pred.indices:\n",
    "      if i == 0: ostr += ' '\n",
    "      else: ostr += chr(i+base)\n",
    "\n",
    "    return ostr"
   ]
  },
  {
   "cell_type": "markdown",
   "metadata": {
    "id": "A9whwmVu9OIx"
   },
   "source": [
    "## Training\n",
    "Below you need to implement the training of the model. We give you more freedom as for the implementation. The two limitations are that it has to execute within 10 minutes, and that error rate should be below 1%."
   ]
  },
  {
   "cell_type": "code",
   "execution_count": null,
   "metadata": {
    "id": "lUZkeRnVTNzG"
   },
   "outputs": [],
   "source": [
    "def test_model(model, device, sequence_length=15):\n",
    "  \"\"\"\n",
    "  This is the test function that runs 100 different strings through your model,\n",
    "  and checks the error rate.\n",
    "  \"\"\"\n",
    "  total = 0\n",
    "  correct = 0\n",
    "  for i in range(500):\n",
    "    s = ''.join([random.choice(string.ascii_lowercase) for i in range(random.randint(15, 25))])\n",
    "    D = DELAY\n",
    "    result = model.test_run(s, device)\n",
    "    assert D > 0, 's[:-D] won\\'t work for D=0'\n",
    "    for c1, c2 in zip(s[:-D], result[D:]):\n",
    "      correct += int(c1 == c2)\n",
    "    total += len(s) - D\n",
    "\n",
    "  return correct / total"
   ]
  },
  {
   "cell_type": "code",
   "execution_count": null,
   "metadata": {
    "colab": {
     "base_uri": "https://localhost:8080/"
    },
    "id": "9lV9BscxCCAI",
    "outputId": "f0055ff3-63e3-468c-946d-bfa67d191723"
   },
   "outputs": [
    {
     "name": "stdout",
     "output_type": "stream",
     "text": [
      "Train Epoch: 1/4, loss: 0.028\n",
      "Train Epoch: 2/4, loss: 0.006\n",
      "Train Epoch: 3/4, loss: 0.027\n",
      "Train Epoch: 4/4, loss: 0.002\n",
      "duration: 480.43412804603577\n",
      "accuracy: 1.0\n",
      "tests passed\n"
     ]
    }
   ],
   "source": [
    "import time\n",
    "start_time = time.time()\n",
    "\n",
    "# TODO: initialize and train your model here.\n",
    "BATCH_SIZE = 64\n",
    "train_dataloader = torch.utils.data.DataLoader(ds, batch_size=BATCH_SIZE, num_workers=4)\n",
    "\n",
    "model = GRUMemory(64)\n",
    "criterion = torch.nn.NLLLoss()\n",
    "optimizer = torch.optim.Adam(model.parameters(), lr=1e-3)\n",
    "\n",
    "if torch.cuda.is_available():\n",
    "  model = model.cuda()\n",
    "  criterion = criterion.cuda()\n",
    "  device = torch.device(\"cuda:0\")\n",
    "else:\n",
    "  device = torch.device(\"cpu\")\n",
    "\n",
    "def train(model, train_dataloader):\n",
    "  model.train()\n",
    "\n",
    "  for data, target in train_dataloader:\n",
    "    data = idx_to_onehot(data)\n",
    "    data, target = data.to(device), target.to(device)\n",
    "\n",
    "    optimizer.zero_grad()\n",
    "    logits, hidden = model(data)\n",
    "    logits = logits.permute(0, 2, 1)\n",
    "\n",
    "    loss = criterion(logits, target)\n",
    "    loss.backward()\n",
    "    optimizer.step()\n",
    "\n",
    "  return loss, hidden\n",
    "\n",
    "n_epochs = 4\n",
    "\n",
    "for epoch in range(1, n_epochs+1):\n",
    "  loss, _ = train(model, train_dataloader)\n",
    "  print(f'Train Epoch: {epoch}/{n_epochs}, loss: {loss:.3f}')\n",
    "\n",
    "end_time = time.time()\n",
    "duration = end_time - start_time\n",
    "accuracy = test_model(model, device)\n",
    "print('duration:', duration)\n",
    "print('accuracy:', accuracy)\n",
    "assert duration < 600, f'execution took {duration:.2f} seconds, which longer than 10 mins'\n",
    "assert accuracy > 0.99, f'accuracy is too low, got {accuracy}, need 0.99'\n",
    "print('tests passed')"
   ]
  },
  {
   "cell_type": "markdown",
   "metadata": {
    "id": "sB0EVNBtDhpN"
   },
   "source": [
    "## Variable delay model\n",
    "\n",
    "Now, to make this more complicated, we want to have varialbe delay. So, now, the goal is to transform a sequence of pairs (character, delay) into a character sequence with given delay. Delay stays constant within one sequence."
   ]
  },
  {
   "cell_type": "markdown",
   "metadata": {
    "id": "3i_iwX_AEOCH"
   },
   "source": [
    "### Dataset\n",
    "As before, we first implement the dataset:"
   ]
  },
  {
   "cell_type": "code",
   "execution_count": null,
   "metadata": {
    "id": "E4G5b8kuEUEd"
   },
   "outputs": [],
   "source": [
    "class VariableDelayEchoDataset(torch.utils.data.IterableDataset):\n",
    "\n",
    "  def __init__(self, max_delay=8, seq_length=20, size=1000):\n",
    "    self.max_delay = max_delay\n",
    "    self.seq_length = seq_length\n",
    "    self.size = size\n",
    "  \n",
    "  def __len__(self):\n",
    "    return self.size\n",
    "\n",
    "  def __iter__(self):\n",
    "    for _ in range(self.size):\n",
    "      seq = torch.tensor([random.choice(range(1, N + 1)) for i in range(self.seq_length)], dtype=torch.int64)\n",
    "      delay = random.randint(0, self.max_delay)\n",
    "      result = torch.cat((torch.zeros(delay), seq[:self.seq_length - delay])).type(torch.int64)\n",
    "      yield seq, delay, result"
   ]
  },
  {
   "cell_type": "markdown",
   "metadata": {
    "id": "oTRVOND3HEJZ"
   },
   "source": [
    "### Model\n",
    "\n",
    "And the model."
   ]
  },
  {
   "cell_type": "code",
   "execution_count": null,
   "metadata": {
    "id": "IYolFIB8Hg0U"
   },
   "outputs": [],
   "source": [
    "class VariableDelayGRUMemory(torch.nn.Module):\n",
    "\n",
    "  def __init__(self, hidden_size, max_delay, device=torch.device(\"cpu\")):\n",
    "    super().__init__()\n",
    "    self.hidden_size = hidden_size\n",
    "    self.hidden_layers = 4\n",
    "    self.max_delay = max_delay\n",
    "    self.device = device\n",
    "\n",
    "    self.gru = torch.nn.GRU(\n",
    "        input_size=N+2,\n",
    "        hidden_size=self.hidden_size,\n",
    "        num_layers=self.hidden_layers,\n",
    "        batch_first=True,\n",
    "    )\n",
    "    self.linear = torch.nn.Linear(\n",
    "        in_features=hidden_size,\n",
    "        out_features=N+1\n",
    "    )\n",
    "\n",
    "  def forward(self, x, delays):\n",
    "    # inputs:\n",
    "    # x - tensor of shape (batch size, seq length, N + 1)\n",
    "    # delays - tensor of shape (batch size)\n",
    "    # returns:\n",
    "    # logits (scores for softmax) of shape (batch size, seq_length, N + 1)\n",
    "    seq_length = x.shape[1]\n",
    "    delays = delays.view(-1,1).repeat(1,seq_length).unsqueeze(2)\n",
    "    x = torch.cat((x, delays), dim=2).to(self.device)\n",
    "\n",
    "    x, hidden = self.gru(x)\n",
    "    x = self.linear(x)\n",
    "    x = torch.nn.functional.log_softmax(x, dim=2)\n",
    "\n",
    "    return x, hidden\n",
    "\n",
    "  @torch.no_grad()\n",
    "  def test_run(self, s, delay):\n",
    "    # This function accepts one string s containing lowercase characters a-z, \n",
    "    # and a delay - the desired output delay.\n",
    "    # You need to map those characters to one-hot encodings, \n",
    "    # then get the result from your network, and then convert the output \n",
    "    # back to a string of the same length, with 0 mapped to ' ', \n",
    "    # and 1-26 mapped to a-z.\n",
    "    self.eval()\n",
    "    base = ord('a')-1\n",
    "\n",
    "    int_seq = torch.tensor([ord(c)-base for c in s])\n",
    "    input = idx_to_onehot(int_seq)\n",
    "    input = input.unsqueeze(0)\n",
    "    input = input.to(self.device)\n",
    "\n",
    "    delays = torch.tensor([delay])\n",
    "    delays = delays.to(self.device)\n",
    "\n",
    "    output, _ = self(input, delays)\n",
    "    output = torch.squeeze(output)\n",
    "    pred = torch.max(output, 1)\n",
    "    \n",
    "    ostr = ''\n",
    "    for i in pred.indices:\n",
    "      if i == 0: ostr += ' '\n",
    "      else: ostr += chr(i+base)\n",
    "\n",
    "    return ostr"
   ]
  },
  {
   "cell_type": "markdown",
   "metadata": {
    "id": "riu3qHWgKjsx"
   },
   "source": [
    "### Train\n",
    "\n",
    "As before, you're free to do what you want, as long as training finishes within 10 minutes and accuracy is above 0.99 for delays between 0 and 8."
   ]
  },
  {
   "cell_type": "code",
   "execution_count": null,
   "metadata": {
    "id": "4FZHojnGO3aw"
   },
   "outputs": [],
   "source": [
    "def test_variable_delay_model(model, seq_length=20):\n",
    "  \"\"\"\n",
    "  This is the test function that runs 100 different strings through your model,\n",
    "  and checks the error rate.\n",
    "  \"\"\"\n",
    "  total = 0\n",
    "  correct = 0\n",
    "  for i in range(500):\n",
    "    s = ''.join([random.choice(string.ascii_lowercase) for i in range(seq_length)])\n",
    "    d = random.randint(0, model.max_delay)\n",
    "    result = model.test_run(s, d)\n",
    "    if d > 0:\n",
    "      z = zip(s[:-d], result[d:])\n",
    "    else:\n",
    "      z = zip(s, result)\n",
    "    for c1, c2 in z:\n",
    "      correct += int(c1 == c2)\n",
    "    total += len(s) - d\n",
    "\n",
    "  return correct / total"
   ]
  },
  {
   "cell_type": "code",
   "execution_count": null,
   "metadata": {
    "colab": {
     "base_uri": "https://localhost:8080/"
    },
    "id": "YJ18Ef6vKi4s",
    "outputId": "fefa537f-fbdb-49f4-c9d9-eb35bb549af0"
   },
   "outputs": [
    {
     "name": "stdout",
     "output_type": "stream",
     "text": [
      "Train Epoch: 1/4, loss: 0.079\n",
      "Train Epoch: 2/4, loss: 0.024\n",
      "Train Epoch: 3/4, loss: 0.009\n",
      "Train Epoch: 4/4, loss: 0.008\n",
      "tests passed\n"
     ]
    }
   ],
   "source": [
    "import time\n",
    "start_time = time.time()\n",
    "\n",
    "MAX_DELAY = 8\n",
    "SEQ_LENGTH = 20\n",
    "BATCH_SIZE = 64\n",
    "\n",
    "ds = VariableDelayEchoDataset(max_delay=MAX_DELAY, seq_length=SEQ_LENGTH, size=DATASET_SIZE)\n",
    "train_dataloader = torch.utils.data.DataLoader(ds, batch_size=BATCH_SIZE, num_workers=4)\n",
    "\n",
    "model = VariableDelayGRUMemory(64, MAX_DELAY)\n",
    "criterion = torch.nn.NLLLoss()\n",
    "optimizer = torch.optim.Adam(model.parameters(), lr=1e-3)\n",
    "\n",
    "if torch.cuda.is_available():\n",
    "  model = model.cuda()\n",
    "  criterion = criterion.cuda()\n",
    "  device = torch.device(\"cuda:0\")\n",
    "  model.device = device\n",
    "else:\n",
    "  device = torch.device(\"cpu\")\n",
    "\n",
    "def train(model, train_dataloader):\n",
    "  model.train()\n",
    "\n",
    "  for data, delays, target in train_dataloader:\n",
    "    data = idx_to_onehot(data)\n",
    "    target = target.to(device)\n",
    "\n",
    "    optimizer.zero_grad()\n",
    "    logits, hidden = model(data, delays)\n",
    "    logits = logits.permute(0, 2, 1)\n",
    "\n",
    "    loss = criterion(logits, target)\n",
    "    loss.backward()\n",
    "    optimizer.step()\n",
    "\n",
    "  return loss, hidden\n",
    "\n",
    "n_epochs = 4\n",
    "\n",
    "for epoch in range(1, n_epochs+1):\n",
    "  loss, _ = train(model, train_dataloader)\n",
    "  print(f'Train Epoch: {epoch}/{n_epochs}, loss: {loss:.3f}')\n",
    "\n",
    "end_time = time.time()\n",
    "assert end_time - start_time < 600, 'executing took longer than 10 mins'\n",
    "assert test_variable_delay_model(model) > 0.99, 'accuracy is too low'\n",
    "print('tests passed')"
   ]
  }
 ],
 "metadata": {
  "accelerator": "GPU",
  "colab": {
   "collapsed_sections": [],
   "name": "hw2_rnn",
   "provenance": []
  },
  "kernelspec": {
   "display_name": "Python 3",
   "language": "python",
   "name": "python3"
  },
  "language_info": {
   "codemirror_mode": {
    "name": "ipython",
    "version": 3
   },
   "file_extension": ".py",
   "mimetype": "text/x-python",
   "name": "python",
   "nbconvert_exporter": "python",
   "pygments_lexer": "ipython3",
   "version": "3.9.1"
  }
 },
 "nbformat": 4,
 "nbformat_minor": 1
}
